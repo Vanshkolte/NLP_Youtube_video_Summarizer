{
  "cells": [
    {
      "cell_type": "code",
      "execution_count": 1,
      "metadata": {
        "id": "tlpumP3FVaX1"
      },
      "outputs": [],
      "source": [
        "!pip install -q transformers"
      ]
    },
    {
      "cell_type": "code",
      "execution_count": 2,
      "metadata": {
        "id": "MerNIV9hVeCy",
        "outputId": "af16484d-608a-4942-e078-3356b99bd0f3",
        "colab": {
          "base_uri": "https://localhost:8080/"
        }
      },
      "outputs": [
        {
          "output_type": "stream",
          "name": "stdout",
          "text": [
            "\u001b[?25l   \u001b[90m━━━━━━━━━━━━━━━━━━━━━━━━━━━━━━━━━━━━━━━━\u001b[0m \u001b[32m0.0/622.3 kB\u001b[0m \u001b[31m?\u001b[0m eta \u001b[36m-:--:--\u001b[0m\r\u001b[2K   \u001b[91m━━━━━━━━━━━━━━━━━━━━━━━━━━━━━━━━━━━━━━━\u001b[0m\u001b[90m╺\u001b[0m \u001b[32m614.4/622.3 kB\u001b[0m \u001b[31m23.3 MB/s\u001b[0m eta \u001b[36m0:00:01\u001b[0m\r\u001b[2K   \u001b[90m━━━━━━━━━━━━━━━━━━━━━━━━━━━━━━━━━━━━━━━━\u001b[0m \u001b[32m622.3/622.3 kB\u001b[0m \u001b[31m15.5 MB/s\u001b[0m eta \u001b[36m0:00:00\u001b[0m\n",
            "\u001b[?25h"
          ]
        }
      ],
      "source": [
        "!pip install -q youtube_transcript_api"
      ]
    },
    {
      "cell_type": "code",
      "execution_count": 13,
      "metadata": {
        "id": "S4ppPcuNVWJs"
      },
      "outputs": [],
      "source": [
        "from transformers import pipeline\n",
        "from youtube_transcript_api import YouTubeTranscriptApi\n"
      ]
    },
    {
      "cell_type": "code",
      "execution_count": 14,
      "metadata": {
        "id": "nadgLmS-XGCN"
      },
      "outputs": [],
      "source": [
        "youtube_video = \"https://www.youtube.com/watch?v=6VT8hDr2GhU&list=PLfVsf4Bjg79CZ5kHTiQHcm-l2q8j06ofd\""
      ]
    },
    {
      "cell_type": "code",
      "execution_count": 15,
      "metadata": {
        "id": "MugczqjFXLtr"
      },
      "outputs": [],
      "source": [
        "video_id = youtube_video.split(\"=\")[1]"
      ]
    },
    {
      "cell_type": "code",
      "execution_count": 16,
      "metadata": {
        "colab": {
          "base_uri": "https://localhost:8080/",
          "height": 36
        },
        "id": "NDQTbtiqekvX",
        "outputId": "9c1d2395-c3f0-4e18-c03d-66bd603f9a80"
      },
      "outputs": [
        {
          "output_type": "execute_result",
          "data": {
            "text/plain": [
              "'6VT8hDr2GhU&list'"
            ],
            "application/vnd.google.colaboratory.intrinsic+json": {
              "type": "string"
            }
          },
          "metadata": {},
          "execution_count": 16
        }
      ],
      "source": [
        "video_id"
      ]
    },
    {
      "cell_type": "code",
      "execution_count": 17,
      "metadata": {
        "colab": {
          "base_uri": "https://localhost:8080/",
          "height": 322
        },
        "id": "KLQNhfZBYWVe",
        "outputId": "6d91bb18-1151-456b-d4cb-f0f302fc4c2e"
      },
      "outputs": [
        {
          "output_type": "execute_result",
          "data": {
            "text/plain": [
              "<IPython.lib.display.YouTubeVideo at 0x7b3468b74a90>"
            ],
            "text/html": [
              "\n",
              "        <iframe\n",
              "            width=\"400\"\n",
              "            height=\"300\"\n",
              "            src=\"https://www.youtube.com/embed/6VT8hDr2GhU&list\"\n",
              "            frameborder=\"0\"\n",
              "            allowfullscreen\n",
              "            \n",
              "        ></iframe>\n",
              "        "
            ]
          },
          "metadata": {},
          "execution_count": 17
        }
      ],
      "source": [
        "from IPython.display import YouTubeVideo\n",
        "YouTubeVideo(video_id)"
      ]
    },
    {
      "cell_type": "code",
      "execution_count": 18,
      "metadata": {
        "id": "_sxrnhDVXXhR"
      },
      "outputs": [],
      "source": [
        "YouTubeTranscriptApi.get_transcript(video_id)\n",
        "transcript = YouTubeTranscriptApi.get_transcript(video_id)\n"
      ]
    },
    {
      "cell_type": "code",
      "execution_count": 19,
      "metadata": {
        "colab": {
          "base_uri": "https://localhost:8080/"
        },
        "id": "OtepAI30e7gp",
        "outputId": "48a52c43-67cb-43d5-a9a0-5e7cc305907a"
      },
      "outputs": [
        {
          "output_type": "execute_result",
          "data": {
            "text/plain": [
              "[{'text': 'Hi,This is Anil from learning Lad and welcome\\nto the very first video tutorial on the C',\n",
              "  'start': 1.05,\n",
              "  'duration': 4.25},\n",
              " {'text': 'programming language.', 'start': 5.3, 'duration': 1.67},\n",
              " {'text': 'now in this video we will take a look at the\\nintroduction part of the C programming language,',\n",
              "  'start': 6.97,\n",
              "  'duration': 4.09},\n",
              " {'text': 'we will see its history and then we will discuss\\nwhy you should study this C programming language',\n",
              "  'start': 11.06,\n",
              "  'duration': 6.229},\n",
              " {'text': 'when there are so many other programming languages\\nare available.',\n",
              "  'start': 17.289,\n",
              "  'duration': 3.711}]"
            ]
          },
          "metadata": {},
          "execution_count": 19
        }
      ],
      "source": [
        "transcript[0:5]"
      ]
    },
    {
      "cell_type": "code",
      "execution_count": 20,
      "metadata": {
        "colab": {
          "base_uri": "https://localhost:8080/"
        },
        "id": "yOZD8yvoVZWb",
        "outputId": "f2184495-4134-4ef8-8f8e-7a17d7ce1362"
      },
      "outputs": [
        {
          "output_type": "stream",
          "name": "stdout",
          "text": [
            "5982\n"
          ]
        }
      ],
      "source": [
        "\n",
        "result = \"\"\n",
        "for i in transcript:\n",
        "    result += ' ' + i['text']\n",
        "#print(result)\n",
        "print(len(result))"
      ]
    },
    {
      "cell_type": "code",
      "execution_count": 21,
      "metadata": {
        "colab": {
          "base_uri": "https://localhost:8080/"
        },
        "id": "WwzF8ncWYbu7",
        "outputId": "759ae43c-b403-4c8b-b55f-cf81c374e322"
      },
      "outputs": [
        {
          "output_type": "stream",
          "name": "stderr",
          "text": [
            "No model was supplied, defaulted to sshleifer/distilbart-cnn-12-6 and revision a4f8f3e (https://huggingface.co/sshleifer/distilbart-cnn-12-6).\n",
            "Using a pipeline without specifying a model name and revision in production is not recommended.\n",
            "Device set to use cpu\n"
          ]
        }
      ],
      "source": [
        "summarizer = pipeline('summarization')"
      ]
    },
    {
      "cell_type": "code",
      "execution_count": 22,
      "metadata": {
        "colab": {
          "base_uri": "https://localhost:8080/"
        },
        "id": "mCz2lRhAV-G4",
        "outputId": "78fc5dfe-66e1-4f38-8902-ee121a6a121b"
      },
      "outputs": [
        {
          "output_type": "stream",
          "name": "stdout",
          "text": [
            "input text \n",
            " Hi,This is Anil from learning Lad and welcome\n",
            "to the very first video tutorial on the C programming language. now in this video we will take a look at the\n",
            "introduction part of the C programming language, we will see its history and then we will discuss\n",
            "why you should study this C programming language when there are so many other programming languages\n",
            "are available. So now first let us see what is a programming\n",
            "language. now all of know that this computer is a general\n",
            "purpose machine that can perform Many computational task. But the thing is, these computer's they\n",
            "really can't do anything on their own. so to get something done by using this computer,\n",
            "we have to give the instructions to this computers. And these instructions which are given to\n",
            "the computers to get a particular job done are called as the Program and the person who\n",
            "is going to write these instructions is called as the Programmer and the language in which\n",
            "these instructions or these programs are written is called as the pr\n",
            "Summarized text\n",
            " Anil from learning Lad gives a first video tutorial on the C programming language . We will discuss the history and then discuss why you should study this programming language when there are so many other programming languages available . The language in which these instructions or programs are written is called as the programming language. It is a general purpose machine that can perform Many computational tasks .\n",
            "input text \n",
            "ogramming language. Now here as a programmer, we will write the\n",
            "program or the instructions using any of the programming language available, and then this\n",
            "computer will work according to the instructions. now C language is one of the programming language\n",
            "which we can use and write these computer programs. now let's see the history of the C programming\n",
            "language. now this C programming language was invented\n",
            "in 1972 at Bell Laboratories of USA by a team lead by Dennis Ritchie and Dennis Ritchie\n",
            "called his new language and the C language, because it was the successor of another existing\n",
            "language at that time called as the “B language” and this B Language was highly influenced\n",
            "by another existing old language which was called as the BCPL at that time. now originally this C language was created\n",
            "to write the operating systems and compilers and then later because of its simplicity and\n",
            "its features C became one of the popular programming language and even to this day C is one of\n",
            "the most popula\n",
            "Summarized text\n",
            " C programming language was invented in 1972 at Bell Laboratories of USA . It was the successor of another existing language called as the “B language” and this B Language was highly influenced by another old language called the BCPL . Originally this C language was created to write the operating systems and compilers and then later because of its simplicity and its features C became one of the popular programming languages .\n",
            "input text \n",
            "r programming language used. AllRight. now you guys maybe thinking like Ok, why should\n",
            "I have to study this C language when there are so many other languages like C++ Java\n",
            "C# are available. now to learn any programming language, that\n",
            "language should be simple and easy to learn. And this C is one of the simple and easy to\n",
            "learn language. if you don't know anything about computer\n",
            "programming then the C programming language is one of the language which you can use and\n",
            "get started with your programming career. Another thing is, if we learn the C programming\n",
            "language then you will have the better understanding of the basic computer programming concepts. This C language has the concepts like the\n",
            "Pointers and dynamic memory allocation And many more. now if you understand all this basic concepts\n",
            "of the computer programming then you can understand all those other advanced concepts very easily. now another thing is if we learn any programming\n",
            "language and once you start writing the programs, the\n",
            "Summarized text\n",
            " The C programming language is one of the language which you can use and get started with your programming career . This C language has concepts like the concepts like Pointers and dynamic memory allocation . If we learn the C programming.language then you will have the better understanding of the basic computer programming concepts. And if you understand all this basic concepts then you can understand all those other advanced concepts very easily.\n",
            "input text \n",
            " program that you write using that language\n",
            "should be efficient and reliable and also it should provide high performance. so if you talk about the execution speed then\n",
            "the code written in the C programming language can run much faster than many of the Other\n",
            "programming languages and also the C programming language is widely used when there are very\n",
            "less resources are available for example in the embedded devices. now the next thing is they will learn the\n",
            "C programming language, then learning languages like C Plus Plus Java or C Sharp will be a\n",
            "lot easier. That’s because as I said before, if you\n",
            "know the C programming language then you will have the better understanding of the basic\n",
            "programming concepts and if you want to learn the language is like C++ Java or C Sharp then\n",
            "it will be a lot easy. These languages, they use something called\n",
            "as the “ object oriented programming “ approach and you know if you know the C, then learning\n",
            "this object oriented programming with be a lot more easy \n",
            "Summarized text\n",
            " Program that you write using that language should be efficient and reliable and also it should provide high performance . C programming language is widely used when there are very little resources available for example in the embedded devices . Learning languages like C Plus Plus Java or C Sharp will be a lot easier .\n",
            "input text \n",
            "and also major part of many\n",
            "modern programming languages are written using the C programming language and also these\n",
            "languages, they take a lot of features from the C language and that’s why C language\n",
            "is also called as the “Mother of all languages” So if we learn the C then learning any other\n",
            "language will be a lot more easy. And then the next thing is, C is a general purpose programming language. it means that you can use the C programming\n",
            "language to create different types of programs of the softwares. for example you can use the C programming\n",
            "language to write the device drivers. we can use it to create the word processor\n",
            "or you can use it while developing the games and also this C programming language is widely\n",
            "used for developing the major parts of the operating system and also this C is widely\n",
            "used in the embedded devices where you know you get very less resources and you need to\n",
            "write the efficient programs. just for an example the Curiosity Rover sent\n",
            "to Mars by NASA has most \n",
            "Summarized text\n",
            " Many modern programming languages are written using the C programming language . C language is also called as the ‘Mother of all languages’ C is widely used for developing the major parts of the operating system and also in the embedded devices where you know you get very less resources and you need to write the efficient programs .\n",
            "input text \n",
            "of the code written in the C programming language and what I'm\n",
            "trying to say here is if you learn the C programming language then you can create different types\n",
            "of programs or the softwares using it. so this is it guys, This is about the introduction\n",
            "to the C programming language, what is its history and why you should study this C programming\n",
            "language. now if you are an absolute beginner and you\n",
            "really don't know about computer programming, programming languages and all these things,\n",
            "then and I have a particular word which explains all these basic topics and I will put the\n",
            "link in the description box and you guys can check it out and if you like this video then\n",
            "give a thumbs up, if you don't like it then give a thumbs down and if you think that this\n",
            "video will help any of your friends, then do share this video with them and if you want\n",
            "to watch more tutorials like this, then subscribe to my channel and once again Thank you for\n",
            "Watching and I'll see you next tutorial.\n",
            "Summarized text\n",
            " This is about the introduction to the C programming language, what is its history and why you should study this C programminglanguage . If you are an absolute beginner and you really don't know about computer programming, programming languages and all these things, then you have a particular word which explains all these basic topics and I will put the word in the description box .\n"
          ]
        }
      ],
      "source": [
        "num_iters = int(len(result)/1000)\n",
        "summarized_text = []\n",
        "for i in range(0, num_iters + 1):\n",
        "  start = 0\n",
        "  start = i * 1000\n",
        "  end = (i + 1) * 1000\n",
        "  print(\"input text \\n\" + result[start:end])\n",
        "  out = summarizer(result[start:end])\n",
        "  out = out[0]\n",
        "  out = out['summary_text']\n",
        "  print(\"Summarized text\\n\"+out)\n",
        "  summarized_text.append(out)\n",
        "\n",
        "#print(summarized_text)"
      ]
    },
    {
      "cell_type": "code",
      "execution_count": 23,
      "metadata": {
        "colab": {
          "base_uri": "https://localhost:8080/"
        },
        "id": "rLrIX_yJWHFo",
        "outputId": "fa99c952-5c78-4c8f-dbcd-dec458c7a14b"
      },
      "outputs": [
        {
          "output_type": "execute_result",
          "data": {
            "text/plain": [
              "2364"
            ]
          },
          "metadata": {},
          "execution_count": 23
        }
      ],
      "source": [
        "len(str(summarized_text))"
      ]
    },
    {
      "cell_type": "code",
      "execution_count": 24,
      "metadata": {
        "colab": {
          "base_uri": "https://localhost:8080/",
          "height": 261
        },
        "id": "31mkg8GbcddH",
        "outputId": "61179f89-4f38-4380-b4a2-ad6acddd02b0"
      },
      "outputs": [
        {
          "output_type": "execute_result",
          "data": {
            "text/plain": [
              "'[\\' Anil from learning Lad gives a first video tutorial on the C programming language . We will discuss the history and then discuss why you should study this programming language when there are so many other programming languages available . The language in which these instructions or programs are written is called as the programming language. It is a general purpose machine that can perform Many computational tasks .\\', \\' C programming language was invented in 1972 at Bell Laboratories of USA . It was the successor of another existing language called as the “B language” and this B Language was highly influenced by another old language called the BCPL . Originally this C language was created to write the operating systems and compilers and then later because of its simplicity and its features C became one of the popular programming languages .\\', \\' The C programming language is one of the language which you can use and get started with your programming career . This C language has concepts like the concepts like Pointers and dynamic memory allocation . If we learn the C programming.language then you will have the better understanding of the basic computer programming concepts. And if you understand all this basic concepts then you can understand all those other advanced concepts very easily.\\', \\' Program that you write using that language should be efficient and reliable and also it should provide high performance . C programming language is widely used when there are very little resources available for example in the embedded devices . Learning languages like C Plus Plus Java or C Sharp will be a lot easier .\\', \\' Many modern programming languages are written using the C programming language . C language is also called as the ‘Mother of all languages’ C is widely used for developing the major parts of the operating system and also in the embedded devices where you know you get very less resources and you need to write the efficient programs .\\', \" This is about the introduction to the C programming language, what is its history and why you should study this C programminglanguage . If you are an absolute beginner and you really don\\'t know about computer programming, programming languages and all these things, then you have a particular word which explains all these basic topics and I will put the word in the description box .\"]'"
            ],
            "application/vnd.google.colaboratory.intrinsic+json": {
              "type": "string"
            }
          },
          "metadata": {},
          "execution_count": 24
        }
      ],
      "source": [
        "str(summarized_text)"
      ]
    },
    {
      "cell_type": "code",
      "execution_count": null,
      "metadata": {
        "id": "F3X6nqKYhvgt"
      },
      "outputs": [],
      "source": []
    },
    {
      "cell_type": "markdown",
      "source": [
        "[' Anil from learning Lad gives a first video tutorial on the C programming language . We will discuss the history and then discuss why you should study this programming language when there are so many other programming languages available . The language in which these instructions or programs are written is called as the programming language. It is a general purpose machine that can perform Many computational tasks .', ' C programming language was invented in 1972 at Bell Laboratories of USA . It was the successor of another existing language called as the “B language” and this B Language was highly influenced by another old language called the BCPL . Originally this C language was created to write the operating systems and compilers and then later because of its simplicity and its features C became one of the popular programming languages .', ' The C programming language is one of the language which you can use and get started with your programming career . This C language has concepts like the concepts like Pointers and dynamic memory allocation . If we learn the C programming.language then you will have the better understanding of the basic computer programming concepts. And if you understand all this basic concepts then you can understand all those other advanced concepts very easily.', ' Program that you write using that language should be efficient and reliable and also it should provide high performance . C programming language is widely used when there are very little resources available for example in the embedded devices . Learning languages like C Plus Plus Java or C Sharp will be a lot easier .', ' Many modern programming languages are written using the C programming language . C language is also called as the ‘Mother of all languages’ C is widely used for developing the major parts of the operating system and also in the embedded devices where you know you get very less resources and you need to write the efficient programs .', \" This is about the introduction to the C programming language, what is its history and why you should study this C programminglanguage . If you are an absolute beginner and you really don't know about computer programming, programming languages and all these things, then you have a particular word which explains all these basic topics and I will put the word in the description box .\"]"
      ],
      "metadata": {
        "id": "GrqbVb7m6qW7"
      }
    }
  ],
  "metadata": {
    "colab": {
      "provenance": []
    },
    "kernelspec": {
      "display_name": "Python 3",
      "name": "python3"
    },
    "language_info": {
      "name": "python"
    }
  },
  "nbformat": 4,
  "nbformat_minor": 0
}